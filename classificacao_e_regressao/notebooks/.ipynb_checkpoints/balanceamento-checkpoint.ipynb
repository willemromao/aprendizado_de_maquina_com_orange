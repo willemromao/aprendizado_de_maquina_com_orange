{
 "cells": [
  {
   "cell_type": "code",
   "execution_count": 1,
   "id": "a67b1f14-b753-4e10-ad15-ef029bed1b4a",
   "metadata": {},
   "outputs": [],
   "source": [
    "import pandas as pd"
   ]
  },
  {
   "cell_type": "code",
   "execution_count": 2,
   "id": "b5181cc0-9efd-4acc-8d09-82b0bed46bcb",
   "metadata": {},
   "outputs": [],
   "source": [
    "df = pd.read_csv('/datasets/cleaned_dataset.csv')"
   ]
  },
  {
   "cell_type": "code",
   "execution_count": 3,
   "id": "45ae3649-d58e-4247-914f-ece1f5843f2c",
   "metadata": {},
   "outputs": [
    {
     "data": {
      "text/html": [
       "<div>\n",
       "<style scoped>\n",
       "    .dataframe tbody tr th:only-of-type {\n",
       "        vertical-align: middle;\n",
       "    }\n",
       "\n",
       "    .dataframe tbody tr th {\n",
       "        vertical-align: top;\n",
       "    }\n",
       "\n",
       "    .dataframe thead th {\n",
       "        text-align: right;\n",
       "    }\n",
       "</style>\n",
       "<table border=\"1\" class=\"dataframe\">\n",
       "  <thead>\n",
       "    <tr style=\"text-align: right;\">\n",
       "      <th></th>\n",
       "      <th>CODIGO_IES</th>\n",
       "      <th>NOME_IES</th>\n",
       "      <th>CATEGORIA_ADMINISTRATIVA</th>\n",
       "      <th>ORGANIZACAO_ACADEMICA</th>\n",
       "      <th>CODIGO_CURSO</th>\n",
       "      <th>NOME_CURSO</th>\n",
       "      <th>GRAU</th>\n",
       "      <th>AREA_OCDE</th>\n",
       "      <th>MODALIDADE</th>\n",
       "      <th>SITUACAO_CURSO</th>\n",
       "      <th>QT_VAGAS_AUTORIZADAS</th>\n",
       "      <th>CARGA_HORARIA</th>\n",
       "      <th>CODIGO_AREA_OCDE_CINE</th>\n",
       "      <th>AREA_OCDE_CINE</th>\n",
       "      <th>CODIGO_MUNICIPIO</th>\n",
       "      <th>MUNICIPIO</th>\n",
       "      <th>UF</th>\n",
       "      <th>REGIAO</th>\n",
       "    </tr>\n",
       "  </thead>\n",
       "  <tbody>\n",
       "    <tr>\n",
       "      <th>0</th>\n",
       "      <td>4751</td>\n",
       "      <td>CENTRO UNIVERSITÁRIO UNIFATECIE</td>\n",
       "      <td>Privada com fins lucrativos</td>\n",
       "      <td>Centro Universitário</td>\n",
       "      <td>1556773</td>\n",
       "      <td>ENGENHARIA AGRONÔMICA</td>\n",
       "      <td>Bacharelado</td>\n",
       "      <td>Agronomia</td>\n",
       "      <td>Educação a Distância</td>\n",
       "      <td>Em atividade</td>\n",
       "      <td>1000</td>\n",
       "      <td>4400</td>\n",
       "      <td>301</td>\n",
       "      <td>Agronomia</td>\n",
       "      <td>3541406</td>\n",
       "      <td>Presidente Prudente</td>\n",
       "      <td>SP</td>\n",
       "      <td>SUDESTE</td>\n",
       "    </tr>\n",
       "    <tr>\n",
       "      <th>1</th>\n",
       "      <td>1491</td>\n",
       "      <td>CENTRO UNIVERSITÁRIO INTERNACIONAL</td>\n",
       "      <td>Privada com fins lucrativos</td>\n",
       "      <td>Centro Universitário</td>\n",
       "      <td>1186955</td>\n",
       "      <td>LETRAS</td>\n",
       "      <td>Licenciatura</td>\n",
       "      <td>Formação de professor de língua/literatura ver...</td>\n",
       "      <td>Educação a Distância</td>\n",
       "      <td>Em atividade</td>\n",
       "      <td>3000</td>\n",
       "      <td>3992</td>\n",
       "      <td>58</td>\n",
       "      <td>Formação de professor de língua/literatura ver...</td>\n",
       "      <td>2516201</td>\n",
       "      <td>Sousa</td>\n",
       "      <td>PB</td>\n",
       "      <td>NORDESTE</td>\n",
       "    </tr>\n",
       "    <tr>\n",
       "      <th>2</th>\n",
       "      <td>1472</td>\n",
       "      <td>CENTRO UNIVERSITÁRIO LEONARDO DA VINCI</td>\n",
       "      <td>Privada com fins lucrativos</td>\n",
       "      <td>Centro Universitário</td>\n",
       "      <td>99950</td>\n",
       "      <td>GEOGRAFIA</td>\n",
       "      <td>Licenciatura</td>\n",
       "      <td>Formação de professor de geografia</td>\n",
       "      <td>Educação a Distância</td>\n",
       "      <td>Em atividade</td>\n",
       "      <td>7620</td>\n",
       "      <td>3500</td>\n",
       "      <td>39</td>\n",
       "      <td>Formação de professor de geografia</td>\n",
       "      <td>2800308</td>\n",
       "      <td>Aracaju</td>\n",
       "      <td>SE</td>\n",
       "      <td>NORDESTE</td>\n",
       "    </tr>\n",
       "    <tr>\n",
       "      <th>3</th>\n",
       "      <td>221</td>\n",
       "      <td>UNIVERSIDADE CRUZEIRO DO SUL</td>\n",
       "      <td>Privada com fins lucrativos</td>\n",
       "      <td>Universidade</td>\n",
       "      <td>1467998</td>\n",
       "      <td>EDUCAÇÃO FÍSICA</td>\n",
       "      <td>Bacharelado</td>\n",
       "      <td>Educação física</td>\n",
       "      <td>Educação a Distância</td>\n",
       "      <td>Em atividade</td>\n",
       "      <td>1200</td>\n",
       "      <td>3200</td>\n",
       "      <td>328</td>\n",
       "      <td>Educação física</td>\n",
       "      <td>4113205</td>\n",
       "      <td>Lapa</td>\n",
       "      <td>PR</td>\n",
       "      <td>SUL</td>\n",
       "    </tr>\n",
       "    <tr>\n",
       "      <th>4</th>\n",
       "      <td>1472</td>\n",
       "      <td>CENTRO UNIVERSITÁRIO LEONARDO DA VINCI</td>\n",
       "      <td>Privada com fins lucrativos</td>\n",
       "      <td>Centro Universitário</td>\n",
       "      <td>1516788</td>\n",
       "      <td>SERVIÇOS PENAIS</td>\n",
       "      <td>Tecnológico</td>\n",
       "      <td>NaN</td>\n",
       "      <td>Educação a Distância</td>\n",
       "      <td>Em atividade</td>\n",
       "      <td>1500</td>\n",
       "      <td>1980</td>\n",
       "      <td>357</td>\n",
       "      <td>Serviços penais</td>\n",
       "      <td>2601706</td>\n",
       "      <td>Belo Jardim</td>\n",
       "      <td>PE</td>\n",
       "      <td>NORDESTE</td>\n",
       "    </tr>\n",
       "  </tbody>\n",
       "</table>\n",
       "</div>"
      ],
      "text/plain": [
       "   CODIGO_IES                                NOME_IES  \\\n",
       "0        4751         CENTRO UNIVERSITÁRIO UNIFATECIE   \n",
       "1        1491      CENTRO UNIVERSITÁRIO INTERNACIONAL   \n",
       "2        1472  CENTRO UNIVERSITÁRIO LEONARDO DA VINCI   \n",
       "3         221            UNIVERSIDADE CRUZEIRO DO SUL   \n",
       "4        1472  CENTRO UNIVERSITÁRIO LEONARDO DA VINCI   \n",
       "\n",
       "      CATEGORIA_ADMINISTRATIVA ORGANIZACAO_ACADEMICA  CODIGO_CURSO  \\\n",
       "0  Privada com fins lucrativos  Centro Universitário       1556773   \n",
       "1  Privada com fins lucrativos  Centro Universitário       1186955   \n",
       "2  Privada com fins lucrativos  Centro Universitário         99950   \n",
       "3  Privada com fins lucrativos          Universidade       1467998   \n",
       "4  Privada com fins lucrativos  Centro Universitário       1516788   \n",
       "\n",
       "              NOME_CURSO          GRAU  \\\n",
       "0  ENGENHARIA AGRONÔMICA   Bacharelado   \n",
       "1                 LETRAS  Licenciatura   \n",
       "2              GEOGRAFIA  Licenciatura   \n",
       "3        EDUCAÇÃO FÍSICA   Bacharelado   \n",
       "4        SERVIÇOS PENAIS   Tecnológico   \n",
       "\n",
       "                                           AREA_OCDE            MODALIDADE  \\\n",
       "0                                          Agronomia  Educação a Distância   \n",
       "1  Formação de professor de língua/literatura ver...  Educação a Distância   \n",
       "2                 Formação de professor de geografia  Educação a Distância   \n",
       "3                                    Educação física  Educação a Distância   \n",
       "4                                                NaN  Educação a Distância   \n",
       "\n",
       "  SITUACAO_CURSO  QT_VAGAS_AUTORIZADAS  CARGA_HORARIA CODIGO_AREA_OCDE_CINE  \\\n",
       "0   Em atividade                  1000           4400                   301   \n",
       "1   Em atividade                  3000           3992                    58   \n",
       "2   Em atividade                  7620           3500                    39   \n",
       "3   Em atividade                  1200           3200                   328   \n",
       "4   Em atividade                  1500           1980                   357   \n",
       "\n",
       "                                      AREA_OCDE_CINE  CODIGO_MUNICIPIO  \\\n",
       "0                                          Agronomia           3541406   \n",
       "1  Formação de professor de língua/literatura ver...           2516201   \n",
       "2                 Formação de professor de geografia           2800308   \n",
       "3                                    Educação física           4113205   \n",
       "4                                    Serviços penais           2601706   \n",
       "\n",
       "             MUNICIPIO  UF    REGIAO  \n",
       "0  Presidente Prudente  SP   SUDESTE  \n",
       "1                Sousa  PB  NORDESTE  \n",
       "2              Aracaju  SE  NORDESTE  \n",
       "3                 Lapa  PR       SUL  \n",
       "4          Belo Jardim  PE  NORDESTE  "
      ]
     },
     "execution_count": 3,
     "metadata": {},
     "output_type": "execute_result"
    }
   ],
   "source": [
    "df.head()"
   ]
  },
  {
   "cell_type": "code",
   "execution_count": 4,
   "id": "91e51dad-e0d2-4477-a424-110bed978a7a",
   "metadata": {},
   "outputs": [
    {
     "data": {
      "text/plain": [
       "Index(['CODIGO_IES', 'NOME_IES', 'CATEGORIA_ADMINISTRATIVA',\n",
       "       'ORGANIZACAO_ACADEMICA', 'CODIGO_CURSO', 'NOME_CURSO', 'GRAU',\n",
       "       'AREA_OCDE', 'MODALIDADE', 'SITUACAO_CURSO', 'QT_VAGAS_AUTORIZADAS',\n",
       "       'CARGA_HORARIA', 'CODIGO_AREA_OCDE_CINE', 'AREA_OCDE_CINE',\n",
       "       'CODIGO_MUNICIPIO', 'MUNICIPIO', 'UF', 'REGIAO'],\n",
       "      dtype='object')"
      ]
     },
     "execution_count": 4,
     "metadata": {},
     "output_type": "execute_result"
    }
   ],
   "source": [
    "df.columns"
   ]
  },
  {
   "cell_type": "code",
   "execution_count": 5,
   "id": "70c58f6e-48d7-4a6f-8e4a-5c4ddc4751c0",
   "metadata": {},
   "outputs": [
    {
     "data": {
      "text/plain": [
       "array(['Em atividade', 'Em extinção', 'Extinto'], dtype=object)"
      ]
     },
     "execution_count": 5,
     "metadata": {},
     "output_type": "execute_result"
    }
   ],
   "source": [
    "df['SITUACAO_CURSO'].unique()"
   ]
  },
  {
   "cell_type": "code",
   "execution_count": 6,
   "id": "c5c72220-cac4-4308-a84e-3f761b09098c",
   "metadata": {},
   "outputs": [
    {
     "data": {
      "text/plain": [
       "SITUACAO_CURSO\n",
       "Em atividade    776097\n",
       "Extinto          39017\n",
       "Em extinção      10207\n",
       "Name: count, dtype: int64"
      ]
     },
     "execution_count": 6,
     "metadata": {},
     "output_type": "execute_result"
    }
   ],
   "source": [
    "df['SITUACAO_CURSO'].value_counts()"
   ]
  },
  {
   "cell_type": "code",
   "execution_count": 7,
   "id": "a3690f56-a624-4541-9c6c-7bc2976650f8",
   "metadata": {},
   "outputs": [],
   "source": [
    "min_count = df['SITUACAO_CURSO'].value_counts().min()"
   ]
  },
  {
   "cell_type": "code",
   "execution_count": 8,
   "id": "3c2fb327-830c-4eda-acd5-099b6517c277",
   "metadata": {},
   "outputs": [],
   "source": [
    "class_0 = df[df['SITUACAO_CURSO'] == 'Em atividade']\n",
    "class_1 = df[df['SITUACAO_CURSO'] == 'Em extinção']\n",
    "class_2 = df[df['SITUACAO_CURSO'] == 'Extinto']"
   ]
  },
  {
   "cell_type": "code",
   "execution_count": 9,
   "id": "c78fb219-9673-456a-9fc0-0f1abb112234",
   "metadata": {},
   "outputs": [],
   "source": [
    "class_0_under = class_0.sample(min_count)\n",
    "class_1_under = class_1.sample(min_count)\n",
    "class_2_under = class_2.sample(min_count)"
   ]
  },
  {
   "cell_type": "code",
   "execution_count": 10,
   "id": "922e5a1a-df64-4844-a870-137fb7297ba5",
   "metadata": {},
   "outputs": [],
   "source": [
    "df_balanced = pd.concat([class_0_under, class_1_under, class_2_under], axis=0)"
   ]
  },
  {
   "cell_type": "code",
   "execution_count": 11,
   "id": "15d30808-1039-46df-aebc-ec447d8333cc",
   "metadata": {},
   "outputs": [
    {
     "data": {
      "text/plain": [
       "SITUACAO_CURSO\n",
       "Em atividade    10207\n",
       "Em extinção     10207\n",
       "Extinto         10207\n",
       "Name: count, dtype: int64"
      ]
     },
     "execution_count": 11,
     "metadata": {},
     "output_type": "execute_result"
    }
   ],
   "source": [
    "df_balanced['SITUACAO_CURSO'].value_counts() "
   ]
  },
  {
   "cell_type": "code",
   "execution_count": 12,
   "id": "a1b612c9-17f4-4270-84fc-8dda3f77d01c",
   "metadata": {},
   "outputs": [],
   "source": [
    "df_balanced.to_csv('balanced_dataset.csv', index=False)"
   ]
  }
 ],
 "metadata": {
  "kernelspec": {
   "display_name": "Python 3 (ipykernel)",
   "language": "python",
   "name": "python3"
  },
  "language_info": {
   "codemirror_mode": {
    "name": "ipython",
    "version": 3
   },
   "file_extension": ".py",
   "mimetype": "text/x-python",
   "name": "python",
   "nbconvert_exporter": "python",
   "pygments_lexer": "ipython3",
   "version": "3.11.5"
  }
 },
 "nbformat": 4,
 "nbformat_minor": 5
}
