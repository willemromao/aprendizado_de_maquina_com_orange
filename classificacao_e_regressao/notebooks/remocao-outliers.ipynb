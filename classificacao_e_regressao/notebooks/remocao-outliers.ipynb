{
 "cells": [
  {
   "cell_type": "code",
   "execution_count": 1,
   "id": "ba899b33-7928-4241-afaf-32995b438549",
   "metadata": {},
   "outputs": [],
   "source": [
    "import pandas as pd\n",
    "import numpy as np\n",
    "import matplotlib.pyplot as plt"
   ]
  },
  {
   "cell_type": "code",
   "execution_count": 2,
   "id": "91eeba17-746d-44fa-a647-3f68c34051b2",
   "metadata": {},
   "outputs": [],
   "source": [
    "df = pd.read_csv('/datasets/dataset_ies.csv')"
   ]
  },
  {
   "cell_type": "code",
   "execution_count": 3,
   "id": "b4aaca65-37ae-4cd3-a7e5-1c97baff3978",
   "metadata": {
    "scrolled": true
   },
   "outputs": [
    {
     "data": {
      "text/html": [
       "<div>\n",
       "<style scoped>\n",
       "    .dataframe tbody tr th:only-of-type {\n",
       "        vertical-align: middle;\n",
       "    }\n",
       "\n",
       "    .dataframe tbody tr th {\n",
       "        vertical-align: top;\n",
       "    }\n",
       "\n",
       "    .dataframe thead th {\n",
       "        text-align: right;\n",
       "    }\n",
       "</style>\n",
       "<table border=\"1\" class=\"dataframe\">\n",
       "  <thead>\n",
       "    <tr style=\"text-align: right;\">\n",
       "      <th></th>\n",
       "      <th>CODIGO_IES</th>\n",
       "      <th>NOME_IES</th>\n",
       "      <th>CATEGORIA_ADMINISTRATIVA</th>\n",
       "      <th>ORGANIZACAO_ACADEMICA</th>\n",
       "      <th>CODIGO_CURSO</th>\n",
       "      <th>NOME_CURSO</th>\n",
       "      <th>GRAU</th>\n",
       "      <th>AREA_OCDE</th>\n",
       "      <th>MODALIDADE</th>\n",
       "      <th>SITUACAO_CURSO</th>\n",
       "      <th>QT_VAGAS_AUTORIZADAS</th>\n",
       "      <th>CARGA_HORARIA</th>\n",
       "      <th>CODIGO_AREA_OCDE_CINE</th>\n",
       "      <th>AREA_OCDE_CINE</th>\n",
       "      <th>CODIGO_MUNICIPIO</th>\n",
       "      <th>MUNICIPIO</th>\n",
       "      <th>UF</th>\n",
       "      <th>REGIAO</th>\n",
       "    </tr>\n",
       "  </thead>\n",
       "  <tbody>\n",
       "    <tr>\n",
       "      <th>0</th>\n",
       "      <td>4751</td>\n",
       "      <td>CENTRO UNIVERSITÁRIO UNIFATECIE</td>\n",
       "      <td>Privada com fins lucrativos</td>\n",
       "      <td>Centro Universitário</td>\n",
       "      <td>1556773</td>\n",
       "      <td>ENGENHARIA AGRONÔMICA</td>\n",
       "      <td>Bacharelado</td>\n",
       "      <td>Agronomia</td>\n",
       "      <td>Educação a Distância</td>\n",
       "      <td>Em atividade</td>\n",
       "      <td>1000</td>\n",
       "      <td>4400</td>\n",
       "      <td>301</td>\n",
       "      <td>Agronomia</td>\n",
       "      <td>3541406</td>\n",
       "      <td>Presidente Prudente</td>\n",
       "      <td>SP</td>\n",
       "      <td>SUDESTE</td>\n",
       "    </tr>\n",
       "    <tr>\n",
       "      <th>1</th>\n",
       "      <td>1491</td>\n",
       "      <td>CENTRO UNIVERSITÁRIO INTERNACIONAL</td>\n",
       "      <td>Privada com fins lucrativos</td>\n",
       "      <td>Centro Universitário</td>\n",
       "      <td>1186955</td>\n",
       "      <td>LETRAS</td>\n",
       "      <td>Licenciatura</td>\n",
       "      <td>Formação de professor de língua/literatura ver...</td>\n",
       "      <td>Educação a Distância</td>\n",
       "      <td>Em atividade</td>\n",
       "      <td>3000</td>\n",
       "      <td>3992</td>\n",
       "      <td>58</td>\n",
       "      <td>Formação de professor de língua/literatura ver...</td>\n",
       "      <td>2516201</td>\n",
       "      <td>Sousa</td>\n",
       "      <td>PB</td>\n",
       "      <td>NORDESTE</td>\n",
       "    </tr>\n",
       "    <tr>\n",
       "      <th>2</th>\n",
       "      <td>1472</td>\n",
       "      <td>CENTRO UNIVERSITÁRIO LEONARDO DA VINCI</td>\n",
       "      <td>Privada com fins lucrativos</td>\n",
       "      <td>Centro Universitário</td>\n",
       "      <td>99950</td>\n",
       "      <td>GEOGRAFIA</td>\n",
       "      <td>Licenciatura</td>\n",
       "      <td>Formação de professor de geografia</td>\n",
       "      <td>Educação a Distância</td>\n",
       "      <td>Em atividade</td>\n",
       "      <td>7620</td>\n",
       "      <td>3500</td>\n",
       "      <td>39</td>\n",
       "      <td>Formação de professor de geografia</td>\n",
       "      <td>2800308</td>\n",
       "      <td>Aracaju</td>\n",
       "      <td>SE</td>\n",
       "      <td>NORDESTE</td>\n",
       "    </tr>\n",
       "    <tr>\n",
       "      <th>3</th>\n",
       "      <td>221</td>\n",
       "      <td>UNIVERSIDADE CRUZEIRO DO SUL</td>\n",
       "      <td>Privada com fins lucrativos</td>\n",
       "      <td>Universidade</td>\n",
       "      <td>1467998</td>\n",
       "      <td>EDUCAÇÃO FÍSICA</td>\n",
       "      <td>Bacharelado</td>\n",
       "      <td>Educação física</td>\n",
       "      <td>Educação a Distância</td>\n",
       "      <td>Em atividade</td>\n",
       "      <td>1200</td>\n",
       "      <td>3200</td>\n",
       "      <td>328</td>\n",
       "      <td>Educação física</td>\n",
       "      <td>4113205</td>\n",
       "      <td>Lapa</td>\n",
       "      <td>PR</td>\n",
       "      <td>SUL</td>\n",
       "    </tr>\n",
       "    <tr>\n",
       "      <th>4</th>\n",
       "      <td>1472</td>\n",
       "      <td>CENTRO UNIVERSITÁRIO LEONARDO DA VINCI</td>\n",
       "      <td>Privada com fins lucrativos</td>\n",
       "      <td>Centro Universitário</td>\n",
       "      <td>1516788</td>\n",
       "      <td>SERVIÇOS PENAIS</td>\n",
       "      <td>Tecnológico</td>\n",
       "      <td>NaN</td>\n",
       "      <td>Educação a Distância</td>\n",
       "      <td>Em atividade</td>\n",
       "      <td>1500</td>\n",
       "      <td>1980</td>\n",
       "      <td>357</td>\n",
       "      <td>Serviços penais</td>\n",
       "      <td>2601706</td>\n",
       "      <td>Belo Jardim</td>\n",
       "      <td>PE</td>\n",
       "      <td>NORDESTE</td>\n",
       "    </tr>\n",
       "  </tbody>\n",
       "</table>\n",
       "</div>"
      ],
      "text/plain": [
       "   CODIGO_IES                                NOME_IES  \\\n",
       "0        4751         CENTRO UNIVERSITÁRIO UNIFATECIE   \n",
       "1        1491      CENTRO UNIVERSITÁRIO INTERNACIONAL   \n",
       "2        1472  CENTRO UNIVERSITÁRIO LEONARDO DA VINCI   \n",
       "3         221            UNIVERSIDADE CRUZEIRO DO SUL   \n",
       "4        1472  CENTRO UNIVERSITÁRIO LEONARDO DA VINCI   \n",
       "\n",
       "      CATEGORIA_ADMINISTRATIVA ORGANIZACAO_ACADEMICA  CODIGO_CURSO  \\\n",
       "0  Privada com fins lucrativos  Centro Universitário       1556773   \n",
       "1  Privada com fins lucrativos  Centro Universitário       1186955   \n",
       "2  Privada com fins lucrativos  Centro Universitário         99950   \n",
       "3  Privada com fins lucrativos          Universidade       1467998   \n",
       "4  Privada com fins lucrativos  Centro Universitário       1516788   \n",
       "\n",
       "              NOME_CURSO          GRAU  \\\n",
       "0  ENGENHARIA AGRONÔMICA   Bacharelado   \n",
       "1                 LETRAS  Licenciatura   \n",
       "2              GEOGRAFIA  Licenciatura   \n",
       "3        EDUCAÇÃO FÍSICA   Bacharelado   \n",
       "4        SERVIÇOS PENAIS   Tecnológico   \n",
       "\n",
       "                                           AREA_OCDE            MODALIDADE  \\\n",
       "0                                          Agronomia  Educação a Distância   \n",
       "1  Formação de professor de língua/literatura ver...  Educação a Distância   \n",
       "2                 Formação de professor de geografia  Educação a Distância   \n",
       "3                                    Educação física  Educação a Distância   \n",
       "4                                                NaN  Educação a Distância   \n",
       "\n",
       "  SITUACAO_CURSO  QT_VAGAS_AUTORIZADAS  CARGA_HORARIA CODIGO_AREA_OCDE_CINE  \\\n",
       "0   Em atividade                  1000           4400                   301   \n",
       "1   Em atividade                  3000           3992                    58   \n",
       "2   Em atividade                  7620           3500                    39   \n",
       "3   Em atividade                  1200           3200                   328   \n",
       "4   Em atividade                  1500           1980                   357   \n",
       "\n",
       "                                      AREA_OCDE_CINE  CODIGO_MUNICIPIO  \\\n",
       "0                                          Agronomia           3541406   \n",
       "1  Formação de professor de língua/literatura ver...           2516201   \n",
       "2                 Formação de professor de geografia           2800308   \n",
       "3                                    Educação física           4113205   \n",
       "4                                    Serviços penais           2601706   \n",
       "\n",
       "             MUNICIPIO  UF    REGIAO  \n",
       "0  Presidente Prudente  SP   SUDESTE  \n",
       "1                Sousa  PB  NORDESTE  \n",
       "2              Aracaju  SE  NORDESTE  \n",
       "3                 Lapa  PR       SUL  \n",
       "4          Belo Jardim  PE  NORDESTE  "
      ]
     },
     "execution_count": 3,
     "metadata": {},
     "output_type": "execute_result"
    }
   ],
   "source": [
    "df.head()"
   ]
  },
  {
   "cell_type": "code",
   "execution_count": 4,
   "id": "a9dc90d1-3e15-4228-a292-255558543111",
   "metadata": {},
   "outputs": [
    {
     "data": {
      "text/plain": [
       "(902676, 18)"
      ]
     },
     "execution_count": 4,
     "metadata": {},
     "output_type": "execute_result"
    }
   ],
   "source": [
    "df.shape"
   ]
  },
  {
   "cell_type": "code",
   "execution_count": 5,
   "id": "dfd8989c-5d58-4fad-bfdc-667860e2c785",
   "metadata": {},
   "outputs": [
    {
     "data": {
      "image/png": "[encoded data removed]",
      "text/plain": [
       "<Figure size 640x480 with 1 Axes>"
      ]
     },
     "metadata": {},
     "output_type": "display_data"
    }
   ],
   "source": [
    "plt.boxplot(df['QT_VAGAS_AUTORIZADAS'])\n",
    "plt.title('Quantidade de Vagas Autorizadas')\n",
    "plt.show()"
   ]
  },
  {
   "cell_type": "code",
   "execution_count": 6,
   "id": "d706d08b-bb00-4107-9e97-859873b6bcc7",
   "metadata": {},
   "outputs": [
    {
     "data": {
      "image/png": "[encoded data removed]",
      "text/plain": [
       "<Figure size 640x480 with 1 Axes>"
      ]
     },
     "metadata": {},
     "output_type": "display_data"
    }
   ],
   "source": [
    "plt.boxplot(df['CARGA_HORARIA'])\n",
    "plt.title('Carga Horária')\n",
    "plt.show()"
   ]
  },
  {
   "cell_type": "code",
   "execution_count": 7,
   "id": "c1990ecb-48a5-4448-afca-5e08f92a3cb6",
   "metadata": {},
   "outputs": [],
   "source": [
    "def remove_outliers_iqr(df, column):\n",
    "    Q1 = df[column].quantile(0.25)\n",
    "    Q3 = df[column].quantile(0.75)\n",
    "    IQR = Q3 - Q1\n",
    "    \n",
    "    lower_bound = Q1 - 1.5 * IQR\n",
    "    upper_bound = Q3 + 1.5 * IQR\n",
    "    \n",
    "    filtered_df = df[(df[column] >= lower_bound) & (df[column] <= upper_bound)]\n",
    "    return filtered_df"
   ]
  },
  {
   "cell_type": "code",
   "execution_count": 8,
   "id": "3c040f0c-0ccb-48c9-9e45-ae34f92aac38",
   "metadata": {},
   "outputs": [],
   "source": [
    "df_cleaned = df.copy()\n",
    "for column in ['QT_VAGAS_AUTORIZADAS', 'CARGA_HORARIA']:\n",
    "    df_cleaned = remove_outliers_iqr(df_cleaned, column)"
   ]
  },
  {
   "cell_type": "code",
   "execution_count": 9,
   "id": "17632dcb-1405-4030-9d40-062f69847ca9",
   "metadata": {},
   "outputs": [
    {
     "data": {
      "text/plain": [
       "(825321, 18)"
      ]
     },
     "execution_count": 9,
     "metadata": {},
     "output_type": "execute_result"
    }
   ],
   "source": [
    "df_cleaned.shape"
   ]
  },
  {
   "cell_type": "code",
   "execution_count": 10,
   "id": "8808e46f-1eac-4b99-b667-374f2c47c015",
   "metadata": {},
   "outputs": [
    {
     "data": {
      "image/png": "[encoded data removed]",
      "text/plain": [
       "<Figure size 640x480 with 1 Axes>"
      ]
     },
     "metadata": {},
     "output_type": "display_data"
    }
   ],
   "source": [
    "plt.boxplot(df_cleaned['QT_VAGAS_AUTORIZADAS'])\n",
    "plt.title('Quantidade de Vagas Autorizadas')\n",
    "plt.show()"
   ]
  },
  {
   "cell_type": "code",
   "execution_count": 11,
   "id": "12c5cea8-18bc-44d7-95d2-c45a07ede705",
   "metadata": {},
   "outputs": [
    {
     "data": {
      "image/png": "[encoded data removed]",
      "text/plain": [
       "<Figure size 640x480 with 1 Axes>"
      ]
     },
     "metadata": {},
     "output_type": "display_data"
    }
   ],
   "source": [
    "plt.boxplot(df_cleaned['CARGA_HORARIA'])\n",
    "plt.title('Carga Horária')\n",
    "plt.show()"
   ]
  },
  {
   "cell_type": "code",
   "execution_count": 12,
   "id": "22c67899-ed8c-459e-b63c-3dc94ba8eb95",
   "metadata": {},
   "outputs": [],
   "source": [
    "df_cleaned.to_csv('cleaned_dataset.csv', index=False)"
   ]
  },
  {
   "cell_type": "code",
   "execution_count": 13,
   "id": "8068f9ff-8df6-4d7e-a8d4-f29753d4156b",
   "metadata": {},
   "outputs": [
    {
     "data": {
      "text/plain": [
       "SITUACAO_CURSO\n",
       "Em atividade    776097\n",
       "Extinto          39017\n",
       "Em extinção      10207\n",
       "Name: count, dtype: int64"
      ]
     },
     "execution_count": 13,
     "metadata": {},
     "output_type": "execute_result"
    }
   ],
   "source": [
    "df_cleaned['SITUACAO_CURSO'].value_counts() "
   ]
  }
 ],
 "metadata": {
  "kernelspec": {
   "display_name": "Python 3 (ipykernel)",
   "language": "python",
   "name": "python3"
  },
  "language_info": {
   "codemirror_mode": {
    "name": "ipython",
    "version": 3
   },
   "file_extension": ".py",
   "mimetype": "text/x-python",
   "name": "python",
   "nbconvert_exporter": "python",
   "pygments_lexer": "ipython3",
   "version": "3.11.5"
  }
 },
 "nbformat": 4,
 "nbformat_minor": 5
}
