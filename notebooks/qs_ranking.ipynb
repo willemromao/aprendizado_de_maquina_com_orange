{
 "cells": [
  {
   "cell_type": "code",
   "execution_count": 10,
   "metadata": {},
   "outputs": [],
   "source": [
    "import pandas as pd\n",
    "import numpy as np\n"
   ]
  },
  {
   "cell_type": "code",
   "execution_count": 11,
   "metadata": {},
   "outputs": [
    {
     "name": "stdout",
     "output_type": "stream",
     "text": [
      "   2025 Rank  2024 Rank Institution Name Location Location Full    Size  \\\n",
      "0        103        446    Institution 0   City C    Location 0   Small   \n",
      "1        436        484    Institution 1   City A    Location 1   Small   \n",
      "2        349        270    Institution 2   City C    Location 2   Large   \n",
      "3        271        351    Institution 3   City C    Location 3  Medium   \n",
      "4        107        304    Institution 4   City A    Location 4   Small   \n",
      "\n",
      "   Academic Reputation  Employer Reputation  Faculty Student  \\\n",
      "0            30.569702            50.103988        37.798759   \n",
      "1            19.091103            53.937745        70.508436   \n",
      "2            26.847486            68.396377        24.872415   \n",
      "3            48.527987            61.585116        33.025253   \n",
      "4            37.268687            94.389160        43.445184   \n",
      "\n",
      "   Citations per Faculty  International Faculty  Sustainability  \\\n",
      "0              30.777724              58.419948       43.152814   \n",
      "1              81.638574              73.682248       33.281579   \n",
      "2              96.797377              55.774227       73.054914   \n",
      "3               8.840822              58.653543       69.371761   \n",
      "4              79.181784              56.445854       16.673076   \n",
      "\n",
      "   QS Overall Score  International Students  International Research Network  \\\n",
      "0         69.865906               55.398410                       67.037029   \n",
      "1         71.339445               68.561351                       65.243564   \n",
      "2         89.989101               77.922172                       80.244245   \n",
      "3         67.469350               55.261171                       57.425348   \n",
      "4         73.411591               65.748761                       63.688544   \n",
      "\n",
      "   Employment Outcomes  \n",
      "0            61.898131  \n",
      "1            69.242680  \n",
      "2            89.068467  \n",
      "3            49.066879  \n",
      "4            60.305252  \n"
     ]
    }
   ],
   "source": [
    "# Seed for reproducibility\n",
    "np.random.seed(42)\n",
    "\n",
    "# Number of rows\n",
    "num_rows = 100\n",
    "\n",
    "# Generate random data for variables not correlated with 'QS Overall Score'\n",
    "data = {\n",
    "    '2025 Rank': np.random.randint(1, 501, num_rows),\n",
    "    '2024 Rank': np.random.randint(1, 501, num_rows),\n",
    "    'Institution Name': [f'Institution {i}' for i in range(num_rows)],\n",
    "    'Location': np.random.choice(['City A', 'City B', 'City C'], num_rows),\n",
    "    'Location Full': [f'Location {i}' for i in range(num_rows)],\n",
    "    'Size': np.random.choice(['Small', 'Medium', 'Large'], num_rows),\n",
    "    'Academic Reputation': np.random.uniform(0, 100, num_rows),\n",
    "    'Employer Reputation': np.random.uniform(0, 100, num_rows),\n",
    "    'Faculty Student': np.random.uniform(0, 100, num_rows),\n",
    "    'Citations per Faculty': np.random.uniform(0, 100, num_rows),\n",
    "    'International Faculty': np.random.uniform(0, 100, num_rows),\n",
    "    'Sustainability': np.random.uniform(0, 100, num_rows)\n",
    "}\n",
    "\n",
    "# Generate QS Overall Score as a base for correlated variables\n",
    "qs_overall_score = np.random.uniform(50, 100, num_rows)\n",
    "data['QS Overall Score'] = qs_overall_score\n",
    "\n",
    "# Create variables with strong linear correlation to 'QS Overall Score'\n",
    "coefficients = {\n",
    "    'International Students': 0.8,\n",
    "    'International Research Network': 0.9,\n",
    "    'Employment Outcomes': 0.85\n",
    "}\n",
    "noise_level = 5\n",
    "\n",
    "for var, coef in coefficients.items():\n",
    "    data[var] = coef * qs_overall_score + np.random.normal(0, noise_level, num_rows)\n",
    "\n",
    "# Convert to DataFrame\n",
    "df = pd.DataFrame(data)\n",
    "\n",
    "# Display the first few rows of the DataFrame\n",
    "print(df.head())"
   ]
  },
  {
   "cell_type": "code",
   "execution_count": 13,
   "metadata": {},
   "outputs": [],
   "source": [
    "df.to_csv('qs-world-rankings-2025-fake.csv')"
   ]
  }
 ],
 "metadata": {
  "kernelspec": {
   "display_name": "base",
   "language": "python",
   "name": "python3"
  },
  "language_info": {
   "codemirror_mode": {
    "name": "ipython",
    "version": 3
   },
   "file_extension": ".py",
   "mimetype": "text/x-python",
   "name": "python",
   "nbconvert_exporter": "python",
   "pygments_lexer": "ipython3",
   "version": "3.11.5"
  }
 },
 "nbformat": 4,
 "nbformat_minor": 2
}
