{
 "cells": [
  {
   "cell_type": "code",
   "execution_count": 1,
   "metadata": {},
   "outputs": [],
   "source": [
    "import pandas as pd\n",
    "import numpy as np\n"
   ]
  },
  {
   "cell_type": "code",
   "execution_count": 2,
   "metadata": {},
   "outputs": [],
   "source": [
    "np.random.seed(42)\n",
    "\n",
    "num_rows = 100\n",
    "\n",
    "data = {\n",
    "    '2025 Rank': np.random.randint(1, 501, num_rows),\n",
    "    '2024 Rank': np.random.randint(1, 501, num_rows),\n",
    "    'Institution Name': [f'Institution {i}' for i in range(num_rows)],\n",
    "    'Location': np.random.choice(['City A', 'City B', 'City C'], num_rows),\n",
    "    'Location Full': [f'Location {i}' for i in range(num_rows)],\n",
    "    'Size': np.random.choice(['Small', 'Medium', 'Large'], num_rows),\n",
    "    'Academic Reputation': np.random.uniform(0, 100, num_rows),\n",
    "    'Employer Reputation': np.random.uniform(0, 100, num_rows),\n",
    "    'Faculty Student': np.random.uniform(0, 100, num_rows),\n",
    "    'Citations per Faculty': np.random.uniform(0, 100, num_rows),\n",
    "    'International Faculty': np.random.uniform(0, 100, num_rows),\n",
    "    'Sustainability': np.random.uniform(0, 100, num_rows)\n",
    "}\n",
    "\n",
    "qs_overall_score = np.random.uniform(50, 100, num_rows)\n",
    "data['QS Overall Score'] = qs_overall_score\n",
    "\n",
    "coefficients = {\n",
    "    'International Students': 0.8,\n",
    "    'International Research Network': 0.9,\n",
    "    'Employment Outcomes': 0.85\n",
    "}\n",
    "noise_level = 5\n",
    "\n",
    "for var, coef in coefficients.items():\n",
    "    data[var] = coef * qs_overall_score + np.random.normal(0, noise_level, num_rows)\n",
    "\n",
    "df = pd.DataFrame(data)"
   ]
  },
  {
   "cell_type": "code",
   "execution_count": 3,
   "metadata": {},
   "outputs": [],
   "source": [
    "df.to_csv('qs-world-rankings-2025-fake.csv')"
   ]
  }
 ],
 "metadata": {
  "kernelspec": {
   "display_name": "base",
   "language": "python",
   "name": "python3"
  },
  "language_info": {
   "codemirror_mode": {
    "name": "ipython",
    "version": 3
   },
   "file_extension": ".py",
   "mimetype": "text/x-python",
   "name": "python",
   "nbconvert_exporter": "python",
   "pygments_lexer": "ipython3",
   "version": "3.11.5"
  }
 },
 "nbformat": 4,
 "nbformat_minor": 2
}
